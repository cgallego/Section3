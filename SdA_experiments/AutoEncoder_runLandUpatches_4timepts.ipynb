{
 "cells": [
  {
   "cell_type": "code",
   "execution_count": null,
   "metadata": {
    "collapsed": true
   },
   "outputs": [],
   "source": [
    "from DLFuncs_SdA import *\n",
    "import matplotlib.pyplot as plt\n",
    "%matplotlib inline  \n",
    "plt.rcParams['figure.figsize'] = (16, 10)\n",
    "    \n",
    "# start by importing Deep Learning Funcs\n",
    "funcs = DLFuncs_SdA()\n",
    "\n",
    "pretraining_epochs = 25\n",
    "pretrain_lr = 0.0025\n",
    "finetune_lr = 0.45\n",
    "\n",
    "training_epochs = 1000\n",
    "batch_size = 1\n",
    "\n",
    "output_folder = 'SdA_plots_subs'\n",
    "corruption_levels=[0.20, 0.30, 0.40, 0.50]\n",
    "hidden_layers_sidelen = [45,40,35,30]\n",
    "hidden_layers_sizes=[900, 2025, 1600, 1225, 900]"
   ]
  },
  {
   "cell_type": "code",
   "execution_count": null,
   "metadata": {
    "collapsed": true
   },
   "outputs": [],
   "source": [
    "############\n",
    "# train Stacked dAutoencoder                 \n",
    "############\n",
    "dfpredata, dfinedata = funcs.test_SdA_timep(finetune_lr, pretraining_epochs, pretrain_lr, training_epochs, batch_size, corruption_levels, hidden_layers_sidelen, hidden_layers_sizes, output_folder)\n"
   ]
  },
  {
   "cell_type": "code",
   "execution_count": null,
   "metadata": {
    "collapsed": true
   },
   "outputs": [],
   "source": [
    "############\n",
    "### plotting or cost\n",
    "### the cost we minimize during training is the negative log likelihood of\n",
    "############\n",
    "plt.figure()\n",
    "sns.lmplot('iter', 'LL_iter', data=dfpredata, hue='layer', fit_reg=False)\n",
    "plt.xlabel('epoch', fontsize=14)\n",
    "plt.ylabel('dA Cost', fontsize=14)\n",
    "plt.title('Pretraining Stacked dAutoencoder learn_rate = '+str(pretrain_lr)+' pretrain_epochs = '+str(pretraining_epochs), fontsize=14)\n",
    "\n"
   ]
  },
  {
   "cell_type": "code",
   "execution_count": null,
   "metadata": {
    "collapsed": true
   },
   "outputs": [],
   "source": [
    "############\n",
    "### plotting likelihood or cost FIne tunning\n",
    "### the cost we minimize during training is the negative log likelihood of\n",
    "############\n",
    "x = dfinedata['iter'].values\n",
    "y = dfinedata['LL_iter'].values\n",
    "plt.figure()\n",
    "plt.plot(x, y, 'bo--')\n",
    "plt.xlabel('iterations', fontsize=14)\n",
    "plt.ylabel('negative log likelihood', fontsize=14)\n",
    "plt.title('Fine Tunning: finetune_lr = '+str(finetune_lr)+' batch_size = '+str(batch_size), fontsize=14)\n",
    "\n",
    "x = dfinedata['iter'].values\n",
    "y = dfinedata['loss'].values\n",
    "plt.figure()\n",
    "plt.plot(x, y, 'bo--')\n",
    "plt.xlabel('iterations')\n",
    "plt.ylabel('Validation 0-1-loss %')\n",
    "plt.title('Fine Tunning: finetune_lr = '+str(finetune_lr)+' batch_size = '+str(batch_size), fontsize=14)\n"
   ]
  }
 ],
 "metadata": {
  "kernelspec": {
   "display_name": "Python 2",
   "language": "python",
   "name": "python2"
  },
  "language_info": {
   "codemirror_mode": {
    "name": "ipython",
    "version": 2
   },
   "file_extension": ".py",
   "mimetype": "text/x-python",
   "name": "python",
   "nbconvert_exporter": "python",
   "pygments_lexer": "ipython2",
   "version": "2.7.11"
  }
 },
 "nbformat": 4,
 "nbformat_minor": 0
}
