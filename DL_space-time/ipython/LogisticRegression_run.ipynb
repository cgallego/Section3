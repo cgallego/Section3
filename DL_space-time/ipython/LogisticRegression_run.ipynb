{
 "cells": [
  {
   "cell_type": "markdown",
   "metadata": {},
   "source": [
    "# Running Logistic regression with subset of patches"
   ]
  },
  {
   "cell_type": "code",
   "execution_count": 4,
   "metadata": {
    "collapsed": false
   },
   "outputs": [],
   "source": [
    "\n",
    "from DeepLearnFuncs import *\n",
    "funcs = DeepLearnFuncs()\n",
    "\n",
    "import matplotlib.pyplot as plt\n",
    "%matplotlib inline  \n"
   ]
  },
  {
   "cell_type": "code",
   "execution_count": 7,
   "metadata": {
    "collapsed": false
   },
   "outputs": [
    {
     "name": "stdout",
     "output_type": "stream",
     "text": [
      "... loading data\n",
      "        lesion_id nmenh_dist nmenh_intenh\n",
      "count        5470       5470         5470\n",
      "unique        310          5            3\n",
      "top            80        N/A          N/A\n",
      "freq           25       2593         4920\n",
      "[(u'Focal', 0), (u'Linear', 1), (u'N/A', 2), (u'Regional', 3), (u'Segmental', 4)]\n",
      "Number of patches: 3316 train, 1068 valid, 1076 test\n",
      "... building a LogReg model\n",
      "... training the model\n",
      "epoch 1, minibatch 66/66, validation error 58.095238 %\n",
      "epoch 1, minibatch 66/66, test error of best model 50.666667 %\n",
      "epoch 2, minibatch 66/66, validation error 62.952381 %\n",
      "epoch 3, minibatch 66/66, validation error 75.714286 %\n",
      "epoch 4, minibatch 66/66, validation error 62.285714 %\n",
      "epoch 5, minibatch 66/66, validation error 66.190476 %\n",
      "epoch 6, minibatch 66/66, validation error 75.809524 %\n",
      "epoch 7, minibatch 66/66, validation error 56.095238 %\n",
      "epoch 7, minibatch 66/66, test error of best model 47.428571 %\n",
      "epoch 8, minibatch 66/66, validation error 72.095238 %\n",
      "epoch 9, minibatch 66/66, validation error 87.333333 %\n",
      "epoch 10, minibatch 66/66, validation error 56.000000 %\n",
      "epoch 10, minibatch 66/66, test error of best model 47.428571 %\n",
      "epoch 11, minibatch 66/66, validation error 60.000000 %\n",
      "epoch 12, minibatch 66/66, validation error 63.333333 %\n",
      "epoch 13, minibatch 66/66, validation error 78.285714 %\n",
      "epoch 14, minibatch 66/66, validation error 61.809524 %\n",
      "epoch 15, minibatch 66/66, validation error 72.380952 %\n",
      "epoch 16, minibatch 66/66, validation error 75.523810 %\n",
      "epoch 17, minibatch 66/66, validation error 58.380952 %\n",
      "epoch 18, minibatch 66/66, validation error 76.571429 %\n",
      "epoch 19, minibatch 66/66, validation error 77.904762 %\n",
      "epoch 20, minibatch 66/66, validation error 77.047619 %\n",
      "epoch 21, minibatch 66/66, validation error 75.809524 %\n",
      "epoch 22, minibatch 66/66, validation error 71.904762 %\n",
      "epoch 23, minibatch 66/66, validation error 56.285714 %\n",
      "epoch 24, minibatch 66/66, validation error 75.333333 %\n",
      "epoch 25, minibatch 66/66, validation error 76.190476 %\n",
      "epoch 26, minibatch 66/66, validation error 69.714286 %\n",
      "epoch 27, minibatch 66/66, validation error 73.809524 %\n",
      "epoch 28, minibatch 66/66, validation error 75.619048 %\n",
      "epoch 29, minibatch 66/66, validation error 76.952381 %\n",
      "epoch 30, minibatch 66/66, validation error 56.857143 %\n",
      "epoch 31, minibatch 66/66, validation error 75.428571 %\n",
      "epoch 32, minibatch 66/66, validation error 62.000000 %\n",
      "epoch 33, minibatch 66/66, validation error 75.904762 %\n",
      "epoch 34, minibatch 66/66, validation error 77.333333 %\n",
      "epoch 35, minibatch 66/66, validation error 70.095238 %\n",
      "epoch 36, minibatch 66/66, validation error 68.857143 %\n",
      "epoch 37, minibatch 66/66, validation error 58.095238 %\n",
      "epoch 38, minibatch 66/66, validation error 76.761905 %\n",
      "epoch 39, minibatch 66/66, validation error 69.047619 %\n",
      "epoch 40, minibatch 66/66, validation error 76.666667 %\n",
      "epoch 41, minibatch 66/66, validation error 76.476190 %\n",
      "epoch 42, minibatch 66/66, validation error 66.571429 %\n",
      "epoch 43, minibatch 66/66, validation error 75.523810 %\n",
      "epoch 44, minibatch 66/66, validation error 77.047619 %\n",
      "epoch 45, minibatch 66/66, validation error 76.190476 %\n",
      "epoch 46, minibatch 66/66, validation error 73.714286 %\n",
      "epoch 47, minibatch 66/66, validation error 76.761905 %\n",
      "epoch 48, minibatch 66/66, validation error 75.238095 %\n",
      "epoch 49, minibatch 66/66, validation error 76.761905 %\n",
      "epoch 50, minibatch 66/66, validation error 76.857143 %\n",
      "epoch 51, minibatch 66/66, validation error 60.952381 %\n",
      "epoch 52, minibatch 66/66, validation error 75.619048 %\n",
      "epoch 53, minibatch 66/66, validation error 75.619048 %\n",
      "epoch 54, minibatch 66/66, validation error 75.809524 %\n",
      "epoch 55, minibatch 66/66, validation error 75.047619 %\n",
      "epoch 56, minibatch 66/66, validation error 75.428571 %\n",
      "epoch 57, minibatch 66/66, validation error 75.428571 %\n",
      "epoch 58, minibatch 66/66, validation error 75.714286 %\n",
      "epoch 59, minibatch 66/66, validation error 75.523810 %\n",
      "epoch 60, minibatch 66/66, validation error 75.904762 %\n",
      "epoch 61, minibatch 66/66, validation error 57.809524 %\n",
      "epoch 62, minibatch 66/66, validation error 66.000000 %\n",
      "epoch 63, minibatch 66/66, validation error 75.904762 %\n",
      "epoch 64, minibatch 66/66, validation error 76.095238 %\n",
      "epoch 65, minibatch 66/66, validation error 76.095238 %\n",
      "epoch 66, minibatch 66/66, validation error 75.714286 %\n",
      "epoch 67, minibatch 66/66, validation error 61.523810 %\n",
      "epoch 68, minibatch 66/66, validation error 76.095238 %\n",
      "epoch 69, minibatch 66/66, validation error 75.714286 %\n",
      "epoch 70, minibatch 66/66, validation error 75.333333 %\n",
      "epoch 71, minibatch 66/66, validation error 75.523810 %\n",
      "epoch 72, minibatch 66/66, validation error 66.476190 %\n",
      "epoch 73, minibatch 66/66, validation error 75.333333 %\n",
      "epoch 74, minibatch 66/66, validation error 75.428571 %\n",
      "epoch 75, minibatch 66/66, validation error 75.047619 %\n",
      "Optimization complete with best validation score of 56.000000 %,with test performance 47.428571 %\n",
      "The code run for 76 epochs, with 26.288494 epochs/sec\n",
      "The code for file DeepLearnFuncs.pyc ran for 2.9s\n"
     ]
    },
    {
     "data": {
      "image/png": "[encoded data removed]",
      "text/plain": [
       "<matplotlib.figure.Figure at 0x209f59e8>"
      ]
     },
     "metadata": {},
     "output_type": "display_data"
    }
   ],
   "source": [
    "funcs.sgd_optimization(learning_rate=0.001, n_epochs=1000, batch_size=70)"
   ]
  },
  {
   "cell_type": "markdown",
   "metadata": {},
   "source": [
    "# Total number of patches was: 5460 =  3259 train, 1118 valid, 1083 test"
   ]
  },
  {
   "cell_type": "markdown",
   "metadata": {},
   "source": []
  }
 ],
 "metadata": {
  "kernelspec": {
   "display_name": "Python 2",
   "language": "python",
   "name": "python2"
  },
  "language_info": {
   "codemirror_mode": {
    "name": "ipython",
    "version": 2
   },
   "file_extension": ".py",
   "mimetype": "text/x-python",
   "name": "python",
   "nbconvert_exporter": "python",
   "pygments_lexer": "ipython2",
   "version": "2.7.11"
  }
 },
 "nbformat": 4,
 "nbformat_minor": 0
}
